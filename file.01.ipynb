{
 "cells": [
  {
   "cell_type": "code",
   "execution_count": 1,
   "id": "8bec21b6-7363-476b-9269-6c8be79981a7",
   "metadata": {},
   "outputs": [],
   "source": [
    "# which function is used to open s file? what are the sifferent modes \n",
    "# of opening a file ? Explain each mode of file opening"
   ]
  },
  {
   "cell_type": "code",
   "execution_count": null,
   "id": "9a5451f2-93e3-4c7d-9b62-7b0d1d13d26c",
   "metadata": {},
   "outputs": [],
   "source": [
    "# Ans :-\n",
    "#       open() file and return a file function is used to open a object \n",
    "#       file_object = open(file_path,mode)\n",
    "    \n",
    "#        there are many mode for opening a file and explain each mode of data\n",
    "        \n",
    "#        r - open a file in read mode \n",
    "#        w - opens or creat a text file in write mode\n",
    "#        a - opens a file in append mode \n",
    "#        r+ - open a file in both read and write mode \n",
    "#        a+ - open a file in both read and write mode \n",
    "#        w+ - open a file in both read and write mode"
   ]
  },
  {
   "cell_type": "code",
   "execution_count": null,
   "id": "f29b7c77-1d59-4892-bc71-8068aac07d4b",
   "metadata": {},
   "outputs": [],
   "source": [
    "# why close() function is used ? why is it important to close function\n",
    "\n",
    "\n",
    "\n"
   ]
  },
  {
   "cell_type": "code",
   "execution_count": null,
   "id": "9c5cd4dc-a212-4b60-b27b-fe15d826decf",
   "metadata": {},
   "outputs": [],
   "source": []
  },
  {
   "cell_type": "code",
   "execution_count": 8,
   "id": "39cc6c6e-876b-4262-9662-cc9fb9a24d33",
   "metadata": {},
   "outputs": [
    {
     "data": {
      "text/plain": [
       "'I want to become a data scientist\\nwe decide a write path in your life'"
      ]
     },
     "execution_count": 8,
     "metadata": {},
     "output_type": "execute_result"
    }
   ],
   "source": [
    "# Write a python program to creat a text file .write 'i want to becom a data \n",
    "# scientist ' in that file .then close the file .open this file and read the \n",
    "# content of tne file \n",
    "\n",
    "\n",
    "f1 = open('abc','w')\n",
    "f1.write(\"I want to become a data scientist\")\n",
    "f1.write('\\n')\n",
    "f1.write(\"we decide a write path in your life\")\n",
    "f1.close()\n",
    "f1 = open('abc','r')\n",
    "f1.read()\n"
   ]
  },
  {
   "cell_type": "code",
   "execution_count": 9,
   "id": "1ec05ad8-a40d-4ab9-8218-3096d9b8ee8d",
   "metadata": {},
   "outputs": [
    {
     "name": "stdin",
     "output_type": "stream",
     "text": [
      "enter the name of the employee :  rohit\n",
      "enter the name of the employee :  rishi\n",
      "enter the name of the employee :  nikhil\n"
     ]
    },
    {
     "name": "stdout",
     "output_type": "stream",
     "text": [
      "data is writen into the file\n"
     ]
    }
   ],
   "source": [
    "file = open('Employe.txt','w')\n",
    "for i in range(3):\n",
    "    name = input(\"enter the name of the employee : \")\n",
    "    file.write(name)\n",
    "    file.write('\\n')\n",
    "file.close()\n",
    "print(\"data is writen into the file\")"
   ]
  },
  {
   "cell_type": "code",
   "execution_count": 10,
   "id": "667fde06-6a86-4448-b285-ed9e25bd931e",
   "metadata": {},
   "outputs": [
    {
     "data": {
      "text/plain": [
       "'this is line is writer for read mai abhi zinda hu '"
      ]
     },
     "execution_count": 10,
     "metadata": {},
     "output_type": "execute_result"
    }
   ],
   "source": [
    "# expkain the following with code : read() , readline() and readlines()\n",
    "# Read onky ('r') open text file for reasing. the handle is position at the \n",
    "# beginning of the file if the file dose not exit ,raise i/o error \n",
    "\n",
    "\n",
    "f2 = open('test.txt','w')\n",
    "f2.write('this is line is writer for read ')\n",
    "f2.write('mai abhi zinda hu ')\n",
    "f2.close()\n",
    "f2 = open('test.txt','r')\n",
    "f2.read()\n",
    "\n"
   ]
  },
  {
   "cell_type": "code",
   "execution_count": null,
   "id": "1c0c7463-f08d-4b30-9bf2-9ab312bb2902",
   "metadata": {},
   "outputs": [],
   "source": []
  },
  {
   "cell_type": "code",
   "execution_count": 18,
   "id": "e3a30664-fac9-4906-b0ab-3b9a0b4b7a67",
   "metadata": {},
   "outputs": [
    {
     "data": {
      "text/plain": [
       "['this is line is writer for read\\n', 'mai abhi zinda hu']"
      ]
     },
     "execution_count": 18,
     "metadata": {},
     "output_type": "execute_result"
    }
   ],
   "source": [
    "# expkain the following with code : read() , readline() and readlines()\n",
    "# read all the lines and return them as each linestring element in a llist\n",
    "\n",
    "\n",
    "f2 = open('test.txt','w')\n",
    "f2.write('this is line is writer for read\\n')\n",
    "f2.write('mai abhi zinda hu')\n",
    "f2.close()\n",
    "f2 = open('test.txt','r')\n",
    "f2.readlines()\n",
    "\n"
   ]
  },
  {
   "cell_type": "code",
   "execution_count": null,
   "id": "db1e2163-48fd-43c4-bb40-80cc5e45d092",
   "metadata": {},
   "outputs": [],
   "source": []
  },
  {
   "cell_type": "code",
   "execution_count": 1,
   "id": "2f58dabb-afe2-4c53-aea8-3970a4afe54f",
   "metadata": {},
   "outputs": [
    {
     "ename": "SyntaxError",
     "evalue": "incomplete input (2847044248.py, line 9)",
     "output_type": "error",
     "traceback": [
      "\u001b[0;36m  Cell \u001b[0;32mIn[1], line 9\u001b[0;36m\u001b[0m\n\u001b[0;31m    with open('text3.txt','w') as f:\u001b[0m\n\u001b[0m                                    ^\u001b[0m\n\u001b[0;31mSyntaxError\u001b[0m\u001b[0;31m:\u001b[0m incomplete input\n"
     ]
    }
   ],
   "source": [
    "# Explain why with statement is used with open() . what is the advantage of \n",
    "# using with statement and open() together\n",
    "\n",
    "# The with statement works with the open() function to open unlike open() \n",
    "# where you have to close the file with the close() method , the statement \n",
    "# close the file for you without you telling it to .this is because the \n",
    "# with statement call 2 built in method \n",
    "\n",
    "with open('text3.txt','w') as f:"
   ]
  },
  {
   "cell_type": "code",
   "execution_count": 2,
   "id": "485a3b24-8236-4e96-be3b-27ddc4318c49",
   "metadata": {},
   "outputs": [],
   "source": [
    "# Explain the write() and writeline() function .give a sutable example\n",
    "\n",
    "with open('test1.txt','w') as f:\n",
    "    f.write('this message in a write object')"
   ]
  },
  {
   "cell_type": "code",
   "execution_count": 6,
   "id": "ef7f6d42-ccfc-43fe-9e8f-24fa6ab489fe",
   "metadata": {},
   "outputs": [],
   "source": [
    "with open('test2.txt','w') as f:\n",
    "    f.writelines('this message in a writelines object')"
   ]
  },
  {
   "cell_type": "code",
   "execution_count": null,
   "id": "64192d53-590b-49e7-8e6e-1ca460102a22",
   "metadata": {},
   "outputs": [],
   "source": []
  }
 ],
 "metadata": {
  "kernelspec": {
   "display_name": "Python 3 (ipykernel)",
   "language": "python",
   "name": "python3"
  },
  "language_info": {
   "codemirror_mode": {
    "name": "ipython",
    "version": 3
   },
   "file_extension": ".py",
   "mimetype": "text/x-python",
   "name": "python",
   "nbconvert_exporter": "python",
   "pygments_lexer": "ipython3",
   "version": "3.10.8"
  }
 },
 "nbformat": 4,
 "nbformat_minor": 5
}
